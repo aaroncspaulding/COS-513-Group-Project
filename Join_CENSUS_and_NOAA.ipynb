{
 "cells": [
  {
   "cell_type": "code",
   "execution_count": 9,
   "metadata": {
    "id": "Uzao9d6_zkEw"
   },
   "outputs": [],
   "source": [
    "#!pip install "
   ]
  },
  {
   "cell_type": "code",
   "execution_count": 10,
   "metadata": {
    "colab": {
     "base_uri": "https://localhost:8080/"
    },
    "id": "fW2Wy_D_zr6P",
    "outputId": "1dd28ecc-9c95-479f-e19b-dc84dbb3db7d"
   },
   "outputs": [
    {
     "data": {
      "text/plain": [
       "'/Users/mb6477/Desktop/ProbMod_project/COS-513-Group-Project'"
      ]
     },
     "execution_count": 10,
     "metadata": {},
     "output_type": "execute_result"
    }
   ],
   "source": [
    "pwd"
   ]
  },
  {
   "cell_type": "code",
   "execution_count": 11,
   "metadata": {},
   "outputs": [],
   "source": [
    "import pandas as pd\n",
    "import numpy as np\n",
    "import os"
   ]
  },
  {
   "cell_type": "code",
   "execution_count": null,
   "metadata": {},
   "outputs": [],
   "source": []
  },
  {
   "cell_type": "code",
   "execution_count": 13,
   "metadata": {
    "colab": {
     "base_uri": "https://localhost:8080/"
    },
    "id": "5WgrDTP3zj4Y",
    "outputId": "6ec33c09-0a7d-4e6b-ef33-62ecd41483a7"
   },
   "outputs": [
    {
     "name": "stderr",
     "output_type": "stream",
     "text": [
      "/var/folders/p3/9thmbny930lcn8vcx6g216br0000gp/T/ipykernel_45089/3152548732.py:9: DtypeWarning: Columns (26,28) have mixed types. Specify dtype option on import or set low_memory=False.\n",
      "  df_file = pd.read_csv(os.path.join(root_path, 'data/NOAA_STORM_DATA', f))\n",
      "/var/folders/p3/9thmbny930lcn8vcx6g216br0000gp/T/ipykernel_45089/3152548732.py:9: DtypeWarning: Columns (29,34,35,37) have mixed types. Specify dtype option on import or set low_memory=False.\n",
      "  df_file = pd.read_csv(os.path.join(root_path, 'data/NOAA_STORM_DATA', f))\n",
      "/var/folders/p3/9thmbny930lcn8vcx6g216br0000gp/T/ipykernel_45089/3152548732.py:9: DtypeWarning: Columns (28) have mixed types. Specify dtype option on import or set low_memory=False.\n",
      "  df_file = pd.read_csv(os.path.join(root_path, 'data/NOAA_STORM_DATA', f))\n",
      "/var/folders/p3/9thmbny930lcn8vcx6g216br0000gp/T/ipykernel_45089/3152548732.py:9: DtypeWarning: Columns (28) have mixed types. Specify dtype option on import or set low_memory=False.\n",
      "  df_file = pd.read_csv(os.path.join(root_path, 'data/NOAA_STORM_DATA', f))\n",
      "/var/folders/p3/9thmbny930lcn8vcx6g216br0000gp/T/ipykernel_45089/3152548732.py:9: DtypeWarning: Columns (26,48) have mixed types. Specify dtype option on import or set low_memory=False.\n",
      "  df_file = pd.read_csv(os.path.join(root_path, 'data/NOAA_STORM_DATA', f))\n"
     ]
    }
   ],
   "source": [
    "root_path = '/Users/mb6477/Desktop/ProbMod_project/COS-513-Group-Project/'\n",
    "\n",
    "# download noaa storm data\n",
    "files = os.listdir(os.path.join(root_path, 'data/NOAA_STORM_DATA'))\n",
    "\n",
    "df_list = []\n",
    "\n",
    "for f in files:\n",
    "  df_file = pd.read_csv(os.path.join(root_path, 'data/NOAA_STORM_DATA', f))\n",
    "  df_list.append(df_file)\n",
    "\n",
    "df_noaa = pd.concat(df_list)\n",
    "\n",
    "df_noaa = df_noaa.dropna(subset=['STATE_FIPS'])\n",
    "df_noaa.STATE_FIPS = df_noaa.STATE_FIPS.astype(int).astype(str).str.zfill(2) # 2 digit state number\n",
    "df_noaa.CZ_FIPS = df_noaa.CZ_FIPS.astype(int).astype(str).str.zfill(3) # 3 digit county number"
   ]
  },
  {
   "cell_type": "code",
   "execution_count": 14,
   "metadata": {
    "id": "MVT_N_Gezj14"
   },
   "outputs": [],
   "source": [
    "# download BRIC county data\n",
    "bric_path = os.path.join(root_path, 'data/BRIC_County_Data/')\n",
    "files = os.listdir(bric_path)\n",
    "\n",
    "df_list_bric = []\n",
    "for f in files:\n",
    "  path = bric_path + f\n",
    "  df_file = pd.read_csv(path, encoding='latin-1')\n",
    "\n",
    "  yr = int(f[4:8])\n",
    "  yr_name = 'TOT RESIL' + str(yr)\n",
    "  df_file = df_file.rename(columns={yr_name: 'Resilience',\n",
    "                                    'State Code (FIPS)': 'STATE_FIPS',\n",
    "                                    'County Code (FIPS)': 'CZ_FIPS'})\n",
    "  df_file['Year'] = yr\n",
    "\n",
    "  df_file.STATE_FIPS = df_file.STATE_FIPS.astype(int).astype(str).str.zfill(2) # 2 digit state number\n",
    "  df_file.CZ_FIPS = df_file.CZ_FIPS.astype(int).astype(str).str.zfill(3) # 3 digit county number\n",
    "\n",
    "  df_list_bric.append(df_file)\n",
    "\n",
    "df_bric = pd.concat(df_list_bric)\n",
    "df_bric = df_bric.reset_index()"
   ]
  },
  {
   "cell_type": "code",
   "execution_count": 15,
   "metadata": {
    "colab": {
     "base_uri": "https://localhost:8080/"
    },
    "id": "VYdkiRvD0r4S",
    "outputId": "b28dee9e-0617-4b66-f488-8df7a5da1653"
   },
   "outputs": [
    {
     "name": "stdout",
     "output_type": "stream",
     "text": [
      "2000\n",
      "2010\n",
      "2014\n",
      "2016\n",
      "2018\n",
      "2020\n",
      "2022\n"
     ]
    }
   ],
   "source": [
    "# download SVI county data\n",
    "df_list_svi = []\n",
    "data_years = [2000, 2010, 2014, 2016, 2018, 2020, 2022]\n",
    "svi_path = os.path.join(root_path, 'data/SVI_County_Data/')\n",
    "\n",
    "for yr in data_years:\n",
    "    # read data\n",
    "    print(yr)\n",
    "    svi_path = os.path.join(root_path, 'data/SVI_County_Data/')\n",
    "    filename = os.path.join(svi_path, 'SVI_' + str(yr) + '_US_county.csv')\n",
    "    df = pd.read_csv(filename)\n",
    "\n",
    "    # clean data\n",
    "    df = df.replace(-999., np.nan) # nan values are labelled -999\n",
    "    if yr == 2000:\n",
    "        df = df.rename(columns={'USTP': 'RPL_THEMES', 'STATE_NAME': 'STATE', 'STCOFIPS': 'FIPS'})\n",
    "    if yr == 2010:\n",
    "        df = df.rename(columns={'R_PL_THEMES': 'RPL_THEMES', 'STATE_NAME': 'STATE'})\n",
    "\n",
    "    df.FIPS = df.FIPS.astype(int).astype(str).str.zfill(5)\n",
    "    df['STATE_FIPS'] = df.FIPS.apply(lambda x: x[:2])\n",
    "    df['CZ_FIPS'] = df.FIPS.apply(lambda x: x[2:])\n",
    "    df['Year'] = yr\n",
    "    df_list_svi.append(df)\n",
    "\n",
    "df_svi = pd.concat(df_list_svi)\n",
    "df_svi = df_svi.reset_index()"
   ]
  },
  {
   "cell_type": "code",
   "execution_count": 16,
   "metadata": {
    "colab": {
     "base_uri": "https://localhost:8080/",
     "height": 424
    },
    "id": "kRdNsimp4M-q",
    "outputId": "e811b61f-5a55-4f05-a36f-5f2696200c60"
   },
   "outputs": [
    {
     "data": {
      "text/html": [
       "<div>\n",
       "<style scoped>\n",
       "    .dataframe tbody tr th:only-of-type {\n",
       "        vertical-align: middle;\n",
       "    }\n",
       "\n",
       "    .dataframe tbody tr th {\n",
       "        vertical-align: top;\n",
       "    }\n",
       "\n",
       "    .dataframe thead th {\n",
       "        text-align: right;\n",
       "    }\n",
       "</style>\n",
       "<table border=\"1\" class=\"dataframe\">\n",
       "  <thead>\n",
       "    <tr style=\"text-align: right;\">\n",
       "      <th></th>\n",
       "      <th>index</th>\n",
       "      <th>STATE_FIPS</th>\n",
       "      <th>CNTY_FIPS</th>\n",
       "      <th>FIPS</th>\n",
       "      <th>STATE</th>\n",
       "      <th>STATE_ABBR</th>\n",
       "      <th>COUNTY</th>\n",
       "      <th>G1V1R</th>\n",
       "      <th>G1V2R</th>\n",
       "      <th>G1V3R</th>\n",
       "      <th>...</th>\n",
       "      <th>EP_ASIAN</th>\n",
       "      <th>MP_ASIAN</th>\n",
       "      <th>EP_AIAN</th>\n",
       "      <th>MP_AIAN</th>\n",
       "      <th>EP_NHPI</th>\n",
       "      <th>MP_NHPI</th>\n",
       "      <th>EP_TWOMORE</th>\n",
       "      <th>MP_TWOMORE</th>\n",
       "      <th>EP_OTHERRACE</th>\n",
       "      <th>MP_OTHERRACE</th>\n",
       "    </tr>\n",
       "  </thead>\n",
       "  <tbody>\n",
       "    <tr>\n",
       "      <th>0</th>\n",
       "      <td>0</td>\n",
       "      <td>01</td>\n",
       "      <td>1.0</td>\n",
       "      <td>01001</td>\n",
       "      <td>Alabama</td>\n",
       "      <td>AL</td>\n",
       "      <td>Autauga</td>\n",
       "      <td>0.1092</td>\n",
       "      <td>0.0310</td>\n",
       "      <td>18518.0</td>\n",
       "      <td>...</td>\n",
       "      <td>NaN</td>\n",
       "      <td>NaN</td>\n",
       "      <td>NaN</td>\n",
       "      <td>NaN</td>\n",
       "      <td>NaN</td>\n",
       "      <td>NaN</td>\n",
       "      <td>NaN</td>\n",
       "      <td>NaN</td>\n",
       "      <td>NaN</td>\n",
       "      <td>NaN</td>\n",
       "    </tr>\n",
       "    <tr>\n",
       "      <th>1</th>\n",
       "      <td>1</td>\n",
       "      <td>01</td>\n",
       "      <td>3.0</td>\n",
       "      <td>01003</td>\n",
       "      <td>Alabama</td>\n",
       "      <td>AL</td>\n",
       "      <td>Baldwin</td>\n",
       "      <td>0.1015</td>\n",
       "      <td>0.0255</td>\n",
       "      <td>20826.0</td>\n",
       "      <td>...</td>\n",
       "      <td>NaN</td>\n",
       "      <td>NaN</td>\n",
       "      <td>NaN</td>\n",
       "      <td>NaN</td>\n",
       "      <td>NaN</td>\n",
       "      <td>NaN</td>\n",
       "      <td>NaN</td>\n",
       "      <td>NaN</td>\n",
       "      <td>NaN</td>\n",
       "      <td>NaN</td>\n",
       "    </tr>\n",
       "    <tr>\n",
       "      <th>2</th>\n",
       "      <td>2</td>\n",
       "      <td>01</td>\n",
       "      <td>5.0</td>\n",
       "      <td>01005</td>\n",
       "      <td>Alabama</td>\n",
       "      <td>AL</td>\n",
       "      <td>Barbour</td>\n",
       "      <td>0.2680</td>\n",
       "      <td>0.0271</td>\n",
       "      <td>13316.0</td>\n",
       "      <td>...</td>\n",
       "      <td>NaN</td>\n",
       "      <td>NaN</td>\n",
       "      <td>NaN</td>\n",
       "      <td>NaN</td>\n",
       "      <td>NaN</td>\n",
       "      <td>NaN</td>\n",
       "      <td>NaN</td>\n",
       "      <td>NaN</td>\n",
       "      <td>NaN</td>\n",
       "      <td>NaN</td>\n",
       "    </tr>\n",
       "    <tr>\n",
       "      <th>3</th>\n",
       "      <td>3</td>\n",
       "      <td>01</td>\n",
       "      <td>7.0</td>\n",
       "      <td>01007</td>\n",
       "      <td>Alabama</td>\n",
       "      <td>AL</td>\n",
       "      <td>Bibb</td>\n",
       "      <td>0.2061</td>\n",
       "      <td>0.0329</td>\n",
       "      <td>14105.0</td>\n",
       "      <td>...</td>\n",
       "      <td>NaN</td>\n",
       "      <td>NaN</td>\n",
       "      <td>NaN</td>\n",
       "      <td>NaN</td>\n",
       "      <td>NaN</td>\n",
       "      <td>NaN</td>\n",
       "      <td>NaN</td>\n",
       "      <td>NaN</td>\n",
       "      <td>NaN</td>\n",
       "      <td>NaN</td>\n",
       "    </tr>\n",
       "    <tr>\n",
       "      <th>4</th>\n",
       "      <td>4</td>\n",
       "      <td>01</td>\n",
       "      <td>9.0</td>\n",
       "      <td>01009</td>\n",
       "      <td>Alabama</td>\n",
       "      <td>AL</td>\n",
       "      <td>Blount</td>\n",
       "      <td>0.1174</td>\n",
       "      <td>0.0293</td>\n",
       "      <td>16325.0</td>\n",
       "      <td>...</td>\n",
       "      <td>NaN</td>\n",
       "      <td>NaN</td>\n",
       "      <td>NaN</td>\n",
       "      <td>NaN</td>\n",
       "      <td>NaN</td>\n",
       "      <td>NaN</td>\n",
       "      <td>NaN</td>\n",
       "      <td>NaN</td>\n",
       "      <td>NaN</td>\n",
       "      <td>NaN</td>\n",
       "    </tr>\n",
       "    <tr>\n",
       "      <th>...</th>\n",
       "      <td>...</td>\n",
       "      <td>...</td>\n",
       "      <td>...</td>\n",
       "      <td>...</td>\n",
       "      <td>...</td>\n",
       "      <td>...</td>\n",
       "      <td>...</td>\n",
       "      <td>...</td>\n",
       "      <td>...</td>\n",
       "      <td>...</td>\n",
       "      <td>...</td>\n",
       "      <td>...</td>\n",
       "      <td>...</td>\n",
       "      <td>...</td>\n",
       "      <td>...</td>\n",
       "      <td>...</td>\n",
       "      <td>...</td>\n",
       "      <td>...</td>\n",
       "      <td>...</td>\n",
       "      <td>...</td>\n",
       "      <td>...</td>\n",
       "    </tr>\n",
       "    <tr>\n",
       "      <th>21992</th>\n",
       "      <td>3139</td>\n",
       "      <td>56</td>\n",
       "      <td>NaN</td>\n",
       "      <td>56037</td>\n",
       "      <td>Wyoming</td>\n",
       "      <td>NaN</td>\n",
       "      <td>Sweetwater County</td>\n",
       "      <td>NaN</td>\n",
       "      <td>NaN</td>\n",
       "      <td>NaN</td>\n",
       "      <td>...</td>\n",
       "      <td>0.7</td>\n",
       "      <td>0.3</td>\n",
       "      <td>0.9</td>\n",
       "      <td>0.3</td>\n",
       "      <td>0.1</td>\n",
       "      <td>0.1</td>\n",
       "      <td>2.2</td>\n",
       "      <td>0.8</td>\n",
       "      <td>0.9</td>\n",
       "      <td>0.7</td>\n",
       "    </tr>\n",
       "    <tr>\n",
       "      <th>21993</th>\n",
       "      <td>3140</td>\n",
       "      <td>56</td>\n",
       "      <td>NaN</td>\n",
       "      <td>56039</td>\n",
       "      <td>Wyoming</td>\n",
       "      <td>NaN</td>\n",
       "      <td>Teton County</td>\n",
       "      <td>NaN</td>\n",
       "      <td>NaN</td>\n",
       "      <td>NaN</td>\n",
       "      <td>...</td>\n",
       "      <td>1.3</td>\n",
       "      <td>0.5</td>\n",
       "      <td>0.1</td>\n",
       "      <td>0.2</td>\n",
       "      <td>0.1</td>\n",
       "      <td>0.1</td>\n",
       "      <td>2.3</td>\n",
       "      <td>1.0</td>\n",
       "      <td>0.7</td>\n",
       "      <td>0.7</td>\n",
       "    </tr>\n",
       "    <tr>\n",
       "      <th>21994</th>\n",
       "      <td>3141</td>\n",
       "      <td>56</td>\n",
       "      <td>NaN</td>\n",
       "      <td>56041</td>\n",
       "      <td>Wyoming</td>\n",
       "      <td>NaN</td>\n",
       "      <td>Uinta County</td>\n",
       "      <td>NaN</td>\n",
       "      <td>NaN</td>\n",
       "      <td>NaN</td>\n",
       "      <td>...</td>\n",
       "      <td>0.2</td>\n",
       "      <td>0.2</td>\n",
       "      <td>0.1</td>\n",
       "      <td>0.1</td>\n",
       "      <td>0.0</td>\n",
       "      <td>0.2</td>\n",
       "      <td>2.9</td>\n",
       "      <td>0.4</td>\n",
       "      <td>0.0</td>\n",
       "      <td>0.2</td>\n",
       "    </tr>\n",
       "    <tr>\n",
       "      <th>21995</th>\n",
       "      <td>3142</td>\n",
       "      <td>56</td>\n",
       "      <td>NaN</td>\n",
       "      <td>56043</td>\n",
       "      <td>Wyoming</td>\n",
       "      <td>NaN</td>\n",
       "      <td>Washakie County</td>\n",
       "      <td>NaN</td>\n",
       "      <td>NaN</td>\n",
       "      <td>NaN</td>\n",
       "      <td>...</td>\n",
       "      <td>0.4</td>\n",
       "      <td>0.4</td>\n",
       "      <td>0.3</td>\n",
       "      <td>0.4</td>\n",
       "      <td>0.0</td>\n",
       "      <td>0.5</td>\n",
       "      <td>3.2</td>\n",
       "      <td>0.7</td>\n",
       "      <td>0.3</td>\n",
       "      <td>0.3</td>\n",
       "    </tr>\n",
       "    <tr>\n",
       "      <th>21996</th>\n",
       "      <td>3143</td>\n",
       "      <td>56</td>\n",
       "      <td>NaN</td>\n",
       "      <td>56045</td>\n",
       "      <td>Wyoming</td>\n",
       "      <td>NaN</td>\n",
       "      <td>Weston County</td>\n",
       "      <td>NaN</td>\n",
       "      <td>NaN</td>\n",
       "      <td>NaN</td>\n",
       "      <td>...</td>\n",
       "      <td>0.2</td>\n",
       "      <td>0.4</td>\n",
       "      <td>1.5</td>\n",
       "      <td>1.2</td>\n",
       "      <td>0.7</td>\n",
       "      <td>1.2</td>\n",
       "      <td>8.3</td>\n",
       "      <td>3.5</td>\n",
       "      <td>0.1</td>\n",
       "      <td>0.2</td>\n",
       "    </tr>\n",
       "  </tbody>\n",
       "</table>\n",
       "<p>21997 rows × 325 columns</p>\n",
       "</div>"
      ],
      "text/plain": [
       "       index STATE_FIPS  CNTY_FIPS   FIPS    STATE STATE_ABBR  \\\n",
       "0          0         01        1.0  01001  Alabama         AL   \n",
       "1          1         01        3.0  01003  Alabama         AL   \n",
       "2          2         01        5.0  01005  Alabama         AL   \n",
       "3          3         01        7.0  01007  Alabama         AL   \n",
       "4          4         01        9.0  01009  Alabama         AL   \n",
       "...      ...        ...        ...    ...      ...        ...   \n",
       "21992   3139         56        NaN  56037  Wyoming        NaN   \n",
       "21993   3140         56        NaN  56039  Wyoming        NaN   \n",
       "21994   3141         56        NaN  56041  Wyoming        NaN   \n",
       "21995   3142         56        NaN  56043  Wyoming        NaN   \n",
       "21996   3143         56        NaN  56045  Wyoming        NaN   \n",
       "\n",
       "                  COUNTY   G1V1R   G1V2R    G1V3R  ...  EP_ASIAN  MP_ASIAN  \\\n",
       "0               Autauga   0.1092  0.0310  18518.0  ...       NaN       NaN   \n",
       "1               Baldwin   0.1015  0.0255  20826.0  ...       NaN       NaN   \n",
       "2               Barbour   0.2680  0.0271  13316.0  ...       NaN       NaN   \n",
       "3                  Bibb   0.2061  0.0329  14105.0  ...       NaN       NaN   \n",
       "4                Blount   0.1174  0.0293  16325.0  ...       NaN       NaN   \n",
       "...                  ...     ...     ...      ...  ...       ...       ...   \n",
       "21992  Sweetwater County     NaN     NaN      NaN  ...       0.7       0.3   \n",
       "21993       Teton County     NaN     NaN      NaN  ...       1.3       0.5   \n",
       "21994       Uinta County     NaN     NaN      NaN  ...       0.2       0.2   \n",
       "21995    Washakie County     NaN     NaN      NaN  ...       0.4       0.4   \n",
       "21996      Weston County     NaN     NaN      NaN  ...       0.2       0.4   \n",
       "\n",
       "       EP_AIAN  MP_AIAN  EP_NHPI  MP_NHPI  EP_TWOMORE  MP_TWOMORE  \\\n",
       "0          NaN      NaN      NaN      NaN         NaN         NaN   \n",
       "1          NaN      NaN      NaN      NaN         NaN         NaN   \n",
       "2          NaN      NaN      NaN      NaN         NaN         NaN   \n",
       "3          NaN      NaN      NaN      NaN         NaN         NaN   \n",
       "4          NaN      NaN      NaN      NaN         NaN         NaN   \n",
       "...        ...      ...      ...      ...         ...         ...   \n",
       "21992      0.9      0.3      0.1      0.1         2.2         0.8   \n",
       "21993      0.1      0.2      0.1      0.1         2.3         1.0   \n",
       "21994      0.1      0.1      0.0      0.2         2.9         0.4   \n",
       "21995      0.3      0.4      0.0      0.5         3.2         0.7   \n",
       "21996      1.5      1.2      0.7      1.2         8.3         3.5   \n",
       "\n",
       "       EP_OTHERRACE  MP_OTHERRACE  \n",
       "0               NaN           NaN  \n",
       "1               NaN           NaN  \n",
       "2               NaN           NaN  \n",
       "3               NaN           NaN  \n",
       "4               NaN           NaN  \n",
       "...             ...           ...  \n",
       "21992           0.9           0.7  \n",
       "21993           0.7           0.7  \n",
       "21994           0.0           0.2  \n",
       "21995           0.3           0.3  \n",
       "21996           0.1           0.2  \n",
       "\n",
       "[21997 rows x 325 columns]"
      ]
     },
     "execution_count": 16,
     "metadata": {},
     "output_type": "execute_result"
    }
   ],
   "source": [
    "df_svi"
   ]
  },
  {
   "cell_type": "code",
   "execution_count": 17,
   "metadata": {
    "colab": {
     "base_uri": "https://localhost:8080/",
     "height": 429
    },
    "id": "VfkR85zQ2YWg",
    "outputId": "70c27e99-0377-46ad-cb7d-579bcdd3fe90"
   },
   "outputs": [
    {
     "data": {
      "text/plain": [
       "EVENT_TYPE\n",
       "Thunderstorm Wind    542495\n",
       "Hail                 409834\n",
       "Flash Flood          104976\n",
       "High Wind             91189\n",
       "Winter Storm          87205\n",
       "Winter Weather        78829\n",
       "Tornado               78708\n",
       "Drought               78242\n",
       "Heavy Snow            73385\n",
       "Flood                 67804\n",
       "Name: count, dtype: int64"
      ]
     },
     "execution_count": 17,
     "metadata": {},
     "output_type": "execute_result"
    }
   ],
   "source": [
    "df_noaa.EVENT_TYPE.value_counts().head(10)"
   ]
  },
  {
   "cell_type": "code",
   "execution_count": 18,
   "metadata": {
    "colab": {
     "base_uri": "https://localhost:8080/",
     "height": 459
    },
    "id": "76QYeetsAHyT",
    "outputId": "bbf3e813-7bac-4157-8bb1-133a4b6d5efd"
   },
   "outputs": [
    {
     "data": {
      "text/plain": [
       "0       201806\n",
       "1       201806\n",
       "2       201806\n",
       "3       201806\n",
       "4       201806\n",
       "         ...  \n",
       "1963    196306\n",
       "1964    196303\n",
       "1965    196308\n",
       "1966    196308\n",
       "1967    196302\n",
       "Name: BEGIN_YEARMONTH, Length: 1941071, dtype: int64"
      ]
     },
     "execution_count": 18,
     "metadata": {},
     "output_type": "execute_result"
    }
   ],
   "source": [
    "df_noaa.BEGIN_YEARMONTH"
   ]
  },
  {
   "cell_type": "code",
   "execution_count": 19,
   "metadata": {
    "colab": {
     "base_uri": "https://localhost:8080/",
     "height": 459
    },
    "id": "oADr-LYg-pEw",
    "outputId": "3bfdd02c-a2e8-450b-f068-9a0f153225c0"
   },
   "outputs": [
    {
     "data": {
      "text/plain": [
       "0        NaN\n",
       "1        NaN\n",
       "2        NaN\n",
       "3        NaN\n",
       "4        NaN\n",
       "        ... \n",
       "21992    0.0\n",
       "21993    0.0\n",
       "21994    0.0\n",
       "21995    0.0\n",
       "21996    0.0\n",
       "Name: M_TOTPOP, Length: 21997, dtype: float64"
      ]
     },
     "execution_count": 19,
     "metadata": {},
     "output_type": "execute_result"
    }
   ],
   "source": [
    "df_svi.M_TOTPOP"
   ]
  },
  {
   "cell_type": "code",
   "execution_count": 20,
   "metadata": {
    "colab": {
     "base_uri": "https://localhost:8080/",
     "height": 210
    },
    "id": "-o75OpbiCEMy",
    "outputId": "e6bf2cae-f1bc-41ac-c79b-626b15fa764e"
   },
   "outputs": [
    {
     "data": {
      "text/plain": [
       "Year\n",
       "2020    3143\n",
       "2015    3142\n",
       "2010    3107\n",
       "Name: count, dtype: int64"
      ]
     },
     "execution_count": 20,
     "metadata": {},
     "output_type": "execute_result"
    }
   ],
   "source": [
    "df_bric.Year.value_counts()"
   ]
  },
  {
   "cell_type": "code",
   "execution_count": null,
   "metadata": {},
   "outputs": [],
   "source": []
  },
  {
   "cell_type": "code",
   "execution_count": 21,
   "metadata": {
    "id": "xBPzwq3N3N2e"
   },
   "outputs": [
    {
     "ename": "ModuleNotFoundError",
     "evalue": "No module named 'matplotlib'",
     "output_type": "error",
     "traceback": [
      "\u001b[0;31m---------------------------------------------------------------------------\u001b[0m",
      "\u001b[0;31mModuleNotFoundError\u001b[0m                       Traceback (most recent call last)",
      "Cell \u001b[0;32mIn[21], line 4\u001b[0m\n\u001b[1;32m      2\u001b[0m \u001b[38;5;28;01mimport\u001b[39;00m \u001b[38;5;21;01mpandas\u001b[39;00m \u001b[38;5;28;01mas\u001b[39;00m \u001b[38;5;21;01mpd\u001b[39;00m\n\u001b[1;32m      3\u001b[0m \u001b[38;5;28;01mimport\u001b[39;00m \u001b[38;5;21;01mnumpy\u001b[39;00m \u001b[38;5;28;01mas\u001b[39;00m \u001b[38;5;21;01mnp\u001b[39;00m\n\u001b[0;32m----> 4\u001b[0m \u001b[38;5;28;01mimport\u001b[39;00m \u001b[38;5;21;01mmatplotlib\u001b[39;00m\u001b[38;5;21;01m.\u001b[39;00m\u001b[38;5;21;01mpyplot\u001b[39;00m \u001b[38;5;28;01mas\u001b[39;00m \u001b[38;5;21;01mplt\u001b[39;00m\n\u001b[1;32m      6\u001b[0m \u001b[38;5;66;03m# Geospatial libraries\u001b[39;00m\n\u001b[1;32m      7\u001b[0m \u001b[38;5;28;01mimport\u001b[39;00m \u001b[38;5;21;01mgeopandas\u001b[39;00m \u001b[38;5;28;01mas\u001b[39;00m \u001b[38;5;21;01mgpd\u001b[39;00m\n",
      "\u001b[0;31mModuleNotFoundError\u001b[0m: No module named 'matplotlib'"
     ]
    }
   ],
   "source": []
  },
  {
   "cell_type": "code",
   "execution_count": null,
   "metadata": {},
   "outputs": [],
   "source": []
  }
 ],
 "metadata": {
  "colab": {
   "provenance": []
  },
  "kernelspec": {
   "display_name": "Python 3 (ipykernel)",
   "language": "python",
   "name": "python3"
  },
  "language_info": {
   "codemirror_mode": {
    "name": "ipython",
    "version": 3
   },
   "file_extension": ".py",
   "mimetype": "text/x-python",
   "name": "python",
   "nbconvert_exporter": "python",
   "pygments_lexer": "ipython3",
   "version": "3.8.20"
  }
 },
 "nbformat": 4,
 "nbformat_minor": 4
}
