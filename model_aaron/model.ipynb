{
 "cells": [
  {
   "cell_type": "code",
   "id": "initial_id",
   "metadata": {
    "collapsed": true,
    "ExecuteTime": {
     "end_time": "2025-04-17T17:21:30.257422Z",
     "start_time": "2025-04-17T17:21:29.170458Z"
    }
   },
   "source": [
    "import numpy as np\n",
    "import pandas as pd\n",
    "import matplotlib.pyplot as plt\n",
    "from sklearn.ensemble import RandomForestRegressor\n",
    "\n",
    "from us import states\n",
    "\n",
    "from COS513 import load_all_years_of_noaa_storm_data\n",
    "from COS513 import load_census_data\n",
    "from COS513 import load_county_zone_mapping\n",
    "from COS513 import decode_damage_property"
   ],
   "outputs": [],
   "execution_count": 1
  },
  {
   "metadata": {},
   "cell_type": "markdown",
   "source": [
    "# Data\n",
    "\n",
    "    - NOAA Damage Data\n",
    "    - Census Data"
   ],
   "id": "9e04f9aa35ab542e"
  },
  {
   "metadata": {
    "ExecuteTime": {
     "end_time": "2025-04-17T17:21:41.053524Z",
     "start_time": "2025-04-17T17:21:30.807867Z"
    }
   },
   "cell_type": "code",
   "source": [
    "noaa_data = load_all_years_of_noaa_storm_data()\n",
    "census_data = load_census_data()\n",
    "county_zone_mapping = load_county_zone_mapping()"
   ],
   "id": "a44cffca543fae53",
   "outputs": [
    {
     "data": {
      "text/plain": [
       "Loading NOAA storm data:   0%|          | 0/75 [00:00<?, ?it/s]"
      ],
      "application/vnd.jupyter.widget-view+json": {
       "version_major": 2,
       "version_minor": 0,
       "model_id": "95fae9e87e184d87aaed1888efa598fd"
      }
     },
     "metadata": {},
     "output_type": "display_data"
    }
   ],
   "execution_count": 2
  },
  {
   "metadata": {
    "ExecuteTime": {
     "end_time": "2025-04-17T17:21:47.620752Z",
     "start_time": "2025-04-17T17:21:41.056339Z"
    }
   },
   "cell_type": "code",
   "source": [
    "# only keep CONUS\n",
    "idx = noaa_data['STATE_FIPS'] <= 56.5\n",
    "noaa_data = noaa_data[idx].reset_index(drop=True)\n",
    "noaa_data = noaa_data[noaa_data['CZ_TYPE'] != 'M'].reset_index(drop=True) # Marine regions\n",
    "\n",
    "# format FIPS codes\n",
    "noaa_data['STATE_FIPS'] = noaa_data['STATE_FIPS'].astype(int).astype(str).str.zfill(2)\n",
    "noaa_data['CZ_FIPS'] = noaa_data['CZ_FIPS'].astype(int).astype(str).str.zfill(3)\n",
    "fips_to_abbreviation_map = {s.fips: s.abbr for s in states.STATES}\n",
    "noaa_data['STATE_ABBREVIATION'] = noaa_data['STATE_FIPS'].map(fips_to_abbreviation_map)\n",
    "noaa_data['STATE_ZONE'] = noaa_data['STATE_ABBREVIATION'] + noaa_data['CZ_FIPS']\n",
    "\n",
    "\n",
    "county_zone_mapping_trimmed = county_zone_mapping[['STATE_ZONE', 'FIPS', 'LAT', 'LON']].copy()\n",
    "noaa_data = noaa_data.merge(\n",
    "    county_zone_mapping_trimmed,\n",
    "    on='STATE_ZONE',\n",
    "    how='left'\n",
    ")\n",
    "\n",
    "# Now format the COUNTY_FIPS column\n",
    "noaa_data['COUNTY_FIPS'] = np.nan\n",
    "noaa_data['COUNTY_FIPS'] = noaa_data['COUNTY_FIPS'].astype(str)\n",
    "noaa_data.loc[noaa_data['CZ_TYPE'] == 'C', 'COUNTY_FIPS'] = noaa_data.loc[noaa_data['CZ_TYPE'] == 'C', 'CZ_FIPS']\n",
    "noaa_data.loc[noaa_data['CZ_TYPE'] == 'Z', 'COUNTY_FIPS'] = noaa_data.loc[noaa_data['CZ_TYPE'] == 'Z', 'FIPS'].str[2:]\n",
    "noaa_data['STATE_COUNTY_FIPS'] = noaa_data['STATE_FIPS'] + noaa_data['COUNTY_FIPS']\n",
    "\n",
    "# Format Damage Columns\n",
    "noaa_data['DAMAGE_PROPERTY'] = noaa_data['DAMAGE_PROPERTY'].apply(decode_damage_property)\n",
    "noaa_data['DAMAGE_CROPS'] = noaa_data['DAMAGE_CROPS'].apply(decode_damage_property)"
   ],
   "id": "af5dbb5c80d1142e",
   "outputs": [],
   "execution_count": 3
  },
  {
   "metadata": {
    "ExecuteTime": {
     "end_time": "2025-04-17T17:21:47.917996Z",
     "start_time": "2025-04-17T17:21:47.630140Z"
    }
   },
   "cell_type": "code",
   "source": [
    "# only keep hurricane events\n",
    "hurricane_event_names = ['Hurricane', 'Tropical Depression', 'Hurricane (Typhoon)', 'Tropical Storm']\n",
    "noaa_data = noaa_data[noaa_data['EVENT_TYPE'].isin(hurricane_event_names)].reset_index(drop=True)\n",
    "\n",
    "# drop hurricane events that caused 0 or very low total damage anywhere in the US (likely just an ocean event, check this)\n",
    "storms_to_drop = ['200208', '200705', '200706', '200708', '200710', '200711','201209', '201706', '201805',\n",
    " '202006', '202106', '202206', '202207', '202411']\n",
    "idx = noaa_data['BEGIN_YEARMONTH'].astype(str).isin(storms_to_drop)\n",
    "\n",
    "noaa_data = noaa_data[~noaa_data['BEGIN_YEARMONTH'].astype(str).isin(storms_to_drop)].reset_index(drop=True)"
   ],
   "id": "6a2ebbc6492f8cde",
   "outputs": [],
   "execution_count": 4
  },
  {
   "metadata": {
    "ExecuteTime": {
     "end_time": "2025-04-17T17:21:47.999712Z",
     "start_time": "2025-04-17T17:21:47.948288Z"
    }
   },
   "cell_type": "code",
   "source": [
    "census_data['state'] = census_data['state'].astype(int).astype(str).str.zfill(2)\n",
    "census_data['county'] = census_data['county'].astype(int).astype(str).str.zfill(3)\n",
    "census_data['tract'] = census_data['tract'].astype(int).astype(str).str.zfill(6)\n",
    "\n",
    "census_data['STATE_COUNTY_FIPS'] = census_data['state'] + census_data['county']\n",
    "census_data['GEOID'] = census_data['state'] + census_data['county'] + census_data['tract']\n",
    "\n",
    "census_data.loc[census_data['B19013_001E'] < -1., 'B19013_001E'] = np.nan"
   ],
   "id": "95bd98268cedd1e1",
   "outputs": [],
   "execution_count": 5
  },
  {
   "metadata": {
    "ExecuteTime": {
     "end_time": "2025-04-17T17:21:48.013357Z",
     "start_time": "2025-04-17T17:21:48.008611Z"
    }
   },
   "cell_type": "code",
   "source": [
    "damages = noaa_data[['STATE_COUNTY_FIPS', 'DAMAGE_PROPERTY', 'DAMAGE_CROPS', 'BEGIN_YEARMONTH', 'LAT', 'LON']].copy()\n",
    "damages = damages.dropna(subset=['STATE_COUNTY_FIPS']).reset_index(drop=True)"
   ],
   "id": "fce633b3e8c7b008",
   "outputs": [],
   "execution_count": 6
  },
  {
   "metadata": {
    "ExecuteTime": {
     "end_time": "2025-04-17T17:21:48.139742Z",
     "start_time": "2025-04-17T17:21:48.023092Z"
    }
   },
   "cell_type": "code",
   "source": [
    "tract_data = census_data.merge(\n",
    "    damages,\n",
    "    on='STATE_COUNTY_FIPS',\n",
    "    how='inner'\n",
    ")\n",
    "\n",
    "tract_data['LAT'] = tract_data['LAT'].astype(np.float64)\n",
    "tract_data['LON'] = tract_data['LON'].astype(np.float64)"
   ],
   "id": "660ef10f5633b2c3",
   "outputs": [],
   "execution_count": 7
  },
  {
   "metadata": {
    "ExecuteTime": {
     "end_time": "2025-04-17T17:21:48.614651Z",
     "start_time": "2025-04-17T17:21:48.150219Z"
    }
   },
   "cell_type": "code",
   "source": [
    "tract_data = tract_data[tract_data['BEGIN_YEARMONTH'] > 200000].reset_index(drop=True)\n",
    "\n",
    "states_to_drop = []\n",
    "number_of_data_points_ = []\n",
    "for state in tract_data['state'].unique():\n",
    "    idx = tract_data['state'] == state\n",
    "    number_of_data_points = tract_data[idx].shape[0]\n",
    "\n",
    "    if number_of_data_points < 1_000:\n",
    "        # print(number_of_data_points)\n",
    "        states_to_drop.append(state)\n",
    "    number_of_data_points_.append(number_of_data_points)\n",
    "\n",
    "\n",
    "\n",
    "tract_data = tract_data[~tract_data['state'].isin(states_to_drop)].reset_index(drop=True)\n"
   ],
   "id": "abf149ff35c5e9bb",
   "outputs": [],
   "execution_count": 8
  },
  {
   "metadata": {},
   "cell_type": "markdown",
   "source": "# Model",
   "id": "f2d4af5893b9c5b1"
  },
  {
   "metadata": {
    "ExecuteTime": {
     "end_time": "2025-04-17T17:21:49.352825Z",
     "start_time": "2025-04-17T17:21:48.626617Z"
    }
   },
   "cell_type": "code",
   "source": [
    "import torch\n",
    "\n",
    "DEVICE = torch.device('cpu')\n",
    "if torch.backends.mps.is_available():\n",
    "    DEVICE = torch.device('mps')\n",
    "    print('MPS is available')\n",
    "\n",
    "DTYPE = torch.float32\n",
    "\n",
    "\n",
    "import pyro\n",
    "import pyro.distributions as dist\n",
    "import torch\n",
    "import pyro.infer\n",
    "import pyro.optim\n",
    "import numpy as np\n",
    "import pandas as pd\n",
    "\n",
    "from torch.distributions import constraints\n",
    "from sklearn.preprocessing import OneHotEncoder\n",
    "from sklearn.metrics import r2_score\n",
    "import matplotlib.pyplot as plt\n",
    "\n",
    "import pyro\n",
    "import pyro.distributions as dist\n",
    "from pyro.infer.autoguide import AutoDelta\n",
    "from pyro.infer import SVI, Trace_ELBO\n",
    "from pyro.optim import Adam\n",
    "from torch import scatter_add"
   ],
   "id": "d25a0ede26bbaa98",
   "outputs": [
    {
     "name": "stdout",
     "output_type": "stream",
     "text": [
      "MPS is available\n"
     ]
    }
   ],
   "execution_count": 9
  },
  {
   "metadata": {
    "ExecuteTime": {
     "end_time": "2025-04-17T17:21:49.366848Z",
     "start_time": "2025-04-17T17:21:49.365179Z"
    }
   },
   "cell_type": "code",
   "source": [
    "income_bins = [\n",
    "    'B19001_002E', 'B19001_003E', 'B19001_004E', 'B19001_005E', 'B19001_006E',\n",
    "    'B19001_007E', 'B19001_008E', 'B19001_009E', 'B19001_010E', 'B19001_011E',\n",
    "    'B19001_012E', 'B19001_013E', 'B19001_014E', 'B19001_015E', 'B19001_016E', 'B19001_017E'\n",
    "]"
   ],
   "id": "343923217b2b5f50",
   "outputs": [],
   "execution_count": 10
  },
  {
   "metadata": {
    "ExecuteTime": {
     "end_time": "2025-04-17T17:32:20.152406Z",
     "start_time": "2025-04-17T17:32:19.971410Z"
    }
   },
   "cell_type": "code",
   "source": [
    "# Clean data\n",
    "df_clean = tract_data[\n",
    "    ['B01001_001E', 'B19001_001E', 'B19013_001E', 'DAMAGE_PROPERTY', 'county', 'state', 'BEGIN_YEARMONTH',\n",
    "     'B19001_002E', 'B19001_003E', 'B19001_004E', 'B19001_005E', 'B19001_006E',\n",
    "    'B19001_007E', 'B19001_008E', 'B19001_009E', 'B19001_010E', 'B19001_011E',\n",
    "    'B19001_012E', 'B19001_013E', 'B19001_014E', 'B19001_015E', 'B19001_016E', 'B19001_017E'\n",
    "     ]].dropna()\n",
    "\n",
    "# Inputs (log-scale demographics, raw damages)\n",
    "pop = torch.tensor(np.log1p(df_clean['B01001_001E'].values), dtype=DTYPE, device=DEVICE)\n",
    "households = torch.tensor(np.log1p(df_clean['B19001_001E'].values), dtype=DTYPE, device=DEVICE)\n",
    "income = torch.tensor(np.log1p(df_clean['B19013_001E'].values), dtype=DTYPE, device=DEVICE)\n",
    "damage_property = torch.tensor(df_clean['DAMAGE_PROPERTY'].values, dtype=DTYPE, device=DEVICE)\n",
    "\n",
    "# Define storm_county key\n",
    "df_clean['storm_county'] = df_clean['BEGIN_YEARMONTH'].astype(str) + '_' + df_clean['state'] + df_clean['county']\n",
    "storm_county_idx, storm_county_keys = pd.factorize(df_clean['storm_county'])\n",
    "storm_county_idx = torch.tensor(storm_county_idx, dtype=torch.long, device=DEVICE)\n",
    "\n",
    "# County-level target (sum of tract damages per county/storm)\n",
    "# df_county = df_clean.groupby('storm_county')['DAMAGE_PROPERTY'].sum().reindex(storm_county_keys)\n",
    "aggregated_damages_storm_county = df_clean.groupby('storm_county')['DAMAGE_PROPERTY'].sum().reset_index()\n",
    "y_county = torch.tensor(aggregated_damages_storm_county['DAMAGE_PROPERTY'].values, dtype=DTYPE, device=DEVICE)\n",
    "\n",
    "# income buckets\n",
    "income_proportions = df_clean[income_bins].div(df_clean['B19001_001E'], axis=0).fillna(0)\n",
    "income_group_tensor = torch.tensor(income_proportions.values, dtype=DTYPE, device=DEVICE)\n",
    "# Sizes\n",
    "num_tracts = len(df_clean)\n",
    "num_counties = len(storm_county_keys)\n",
    "\n",
    "\n",
    "class Model:\n",
    "    def model(self, pop, income, households, storm_county_idx, y_county, income_group_tensor):\n",
    "        beta_0 = pyro.sample('beta_0', dist.Normal(torch.tensor(-0.6, device=DEVICE), torch.tensor(10., device=DEVICE)))\n",
    "        beta_pop = pyro.sample('beta_pop', dist.Normal(torch.tensor(1.0, device=DEVICE), torch.tensor(0.5, device=DEVICE)))\n",
    "        beta_income = pyro.sample('beta_income', dist.Normal(torch.tensor(-0.56, device=DEVICE), torch.tensor(0.5, device=DEVICE)))\n",
    "        beta_households = pyro.sample('beta_households', dist.Normal(torch.tensor(0.66, device=DEVICE), torch.tensor(0.5, device=DEVICE)))\n",
    "\n",
    "        sigma_tract = pyro.sample('sigma_tract', dist.HalfNormal(torch.tensor(0.01, device=DEVICE)))\n",
    "        sigma_county = pyro.sample('sigma_county', dist.HalfNormal(torch.tensor(11., device=DEVICE)))\n",
    "\n",
    "        # Shared prior scale\n",
    "        # income_beta_scale = pyro.sample('income_beta_scale', dist.HalfNormal(torch.tensor(400., device=DEVICE)))\n",
    "\n",
    "        # One coefficient per income bin\n",
    "        # beta_income_groups = []\n",
    "        # for i in range(income_group_tensor.shape[1]):\n",
    "        #     beta_i = pyro.sample(f'beta_income_group_{i}', dist.Normal(torch.tensor(0., device=DEVICE), income_beta_scale))\n",
    "        #     beta_income_groups.append(beta_i)\n",
    "        # beta_income_groups = torch.stack(beta_income_groups)\n",
    "        # beta_income_groups = beta_income_groups - beta_income_groups.mean() # sum to 0, so we just observe the relative effects\n",
    "\n",
    "        # Compute tract-level mu\n",
    "        with pyro.plate('tracts', num_tracts):\n",
    "            mu_tract = beta_0 + beta_pop * pop + beta_income * income + beta_households * households\n",
    "            # mu_tract = beta_0 + beta_pop * pop + beta_households * households\n",
    "            # for i in range(income_group_tensor.shape[1]):\n",
    "            #     mu_tract += beta_income_groups[i] * income_group_tensor[:, i]\n",
    "\n",
    "            # damage_tract = pyro.sample('damage_tract', dist.LogNormal(mu_tract, sigma_tract))\n",
    "            # damage_tract = pyro.sample('damage_tract', dist.Normal(mu_tract, sigma_tract))\n",
    "            damage_tract = torch.nn.functional.softplus(mu_tract)\n",
    "\n",
    "        # Aggregate to county\n",
    "        epsilon = torch.tensor(1e-3, device=DEVICE)\n",
    "        damage_county = torch.zeros(num_counties, dtype=DTYPE, device=DEVICE).scatter_add(\n",
    "            dim=0, index=storm_county_idx, src=damage_tract\n",
    "        ) + epsilon\n",
    "\n",
    "        with pyro.plate('counties', num_counties):\n",
    "            pyro.sample(\n",
    "                'obs_county',\n",
    "                dist.LogNormal(torch.log(damage_county), sigma_county),\n",
    "                obs=y_county + epsilon\n",
    "            )"
   ],
   "id": "6313b3dcc1ec2624",
   "outputs": [],
   "execution_count": 27
  },
  {
   "metadata": {
    "ExecuteTime": {
     "end_time": "2025-04-17T17:32:49.810475Z",
     "start_time": "2025-04-17T17:32:20.561150Z"
    }
   },
   "cell_type": "code",
   "source": [
    "# Instantiate and train\n",
    "pyro.clear_param_store()\n",
    "model = Model()\n",
    "guide = AutoDelta(model.model)\n",
    "svi = SVI(model.model, guide, Adam({\"lr\": 0.01}), loss=Trace_ELBO())\n",
    "\n",
    "num_steps = 1_000\n",
    "losses = []\n",
    "for step in range(num_steps):\n",
    "    # loss = svi.step(pop, income, households, storm_county_idx, y_county)\n",
    "    loss = svi.step(pop, income, households, storm_county_idx, y_county, income_group_tensor)\n",
    "    losses.append(loss)\n",
    "    if step % 500 == 0:\n",
    "        print(f'Step {step}: Loss = {loss:.2f}')\n"
   ],
   "id": "58b25e04c49035f0",
   "outputs": [
    {
     "name": "stdout",
     "output_type": "stream",
     "text": [
      "Step 0: Loss = 46065.41\n",
      "Step 500: Loss = 45027.51\n"
     ]
    }
   ],
   "execution_count": 28
  },
  {
   "metadata": {
    "ExecuteTime": {
     "end_time": "2025-04-17T17:32:51.226752Z",
     "start_time": "2025-04-17T17:32:51.180967Z"
    }
   },
   "cell_type": "code",
   "source": [
    "plt.plot(losses)\n",
    "plt.yscale('symlog')"
   ],
   "id": "6e0a09f58dd2e57c",
   "outputs": [
    {
     "data": {
      "text/plain": [
       "<Figure size 640x480 with 1 Axes>"
      ],
      "image/png": "[encoded data removed]"
     },
     "metadata": {},
     "output_type": "display_data"
    }
   ],
   "execution_count": 29
  },
  {
   "metadata": {
    "ExecuteTime": {
     "end_time": "2025-04-17T17:32:52.113332Z",
     "start_time": "2025-04-17T17:32:52.103938Z"
    }
   },
   "cell_type": "code",
   "source": [
    "income_group_tensor.shape\n",
    "# beta_income_vec.shape\n",
    "\n",
    "params = guide()\n",
    "with torch.no_grad():\n",
    "    mu_tract_pred = (\n",
    "        params['beta_0'] +\n",
    "        params['beta_pop'] * pop +\n",
    "        params['beta_income'] * income +\n",
    "        params['beta_households'] * households\n",
    "    )\n",
    "    # mu_tract_pred = (\n",
    "    #         params['beta_0'] +\n",
    "    #         params['beta_pop'] * pop +\n",
    "    #         params['beta_households'] * households\n",
    "    #     ) + (income_group_tensor @ beta_income_vec)\n",
    "    #\n",
    "    damage_tract_pred = torch.exp(mu_tract_pred + 0.5 * params['sigma_tract'] ** 2)\n",
    "\n",
    "    # Aggregate to county\n",
    "    damage_county_pred = torch.zeros(num_counties, dtype=DTYPE, device=DEVICE).scatter_add(\n",
    "        dim=0, index=storm_county_idx, src=damage_tract_pred\n",
    "    )\n",
    "\n"
   ],
   "id": "aa0191386ada42d3",
   "outputs": [],
   "execution_count": 30
  },
  {
   "metadata": {
    "ExecuteTime": {
     "end_time": "2025-04-17T17:22:25.639942Z",
     "start_time": "2025-04-17T17:22:25.638212Z"
    }
   },
   "cell_type": "code",
   "source": [
    "# params = guide()\n",
    "# with torch.no_grad():\n",
    "#     # mu_tract_pred = (\n",
    "#     #     params['beta_0'] +\n",
    "#     #     params['beta_pop'] * pop +\n",
    "#     #     params['beta_income'] * income +\n",
    "#     #     params['beta_households'] * households\n",
    "#     # )\n",
    "#\n",
    "#     mu_tract_pred = (\n",
    "#         params['beta_0'] +\n",
    "#         params['beta_pop'] * pop +\n",
    "#         params['beta_households'] * households\n",
    "#     )\n",
    "#     beta_income_vec = torch.stack([\n",
    "#         params[f'beta_income_group_{i}'] for i in range(income_group_tensor.shape[1])\n",
    "#     ])\n",
    "#     beta_income_vec = beta_income_vec - beta_income_vec.mean()\n",
    "#\n",
    "#     values = []\n",
    "#     # Add income group contributions\n",
    "#     for i in range(income_group_tensor.shape[1]):\n",
    "#         values.append(beta_income_vec[i].cpu().numpy())\n",
    "#         # print(beta_income_vec[i].cpu().numpy())\n",
    "#         mu_tract_pred += beta_income_vec[i] * income_group_tensor[:, i]\n",
    "#\n",
    "#\n",
    "#     # Predict mean damage in original space (accounting for LogNormal variance)\n",
    "#     damage_tract_pred = torch.exp(mu_tract_pred + 0.5 * params['sigma_tract'] ** 2)\n",
    "#\n",
    "#     # Aggregate to county\n",
    "#     damage_county_pred = torch.zeros(num_counties, dtype=DTYPE, device=DEVICE).scatter_add(\n",
    "#         dim=0, index=storm_county_idx, src=damage_tract_pred\n",
    "#     )"
   ],
   "id": "fbc779bf4adc77ff",
   "outputs": [],
   "execution_count": 15
  },
  {
   "metadata": {
    "ExecuteTime": {
     "end_time": "2025-04-17T17:34:30.626659Z",
     "start_time": "2025-04-17T17:34:30.624576Z"
    }
   },
   "cell_type": "code",
   "source": [
    "# plt.figure(figsize=(6, 6))\n",
    "# plt.scatter(y_county.cpu().numpy(), damage_county_pred.cpu().numpy() / 1e14)\n",
    "# plt.plot([0, 1e14], [0, 1e14], 'r--')\n",
    "# plt.xlabel('True log1p(DAMAGE_PROPERTY)')\n",
    "# plt.ylabel('Predicted')\n",
    "#\n",
    "# plt.yscale('symlog')\n",
    "# plt.xscale('symlog')\n",
    "# plt.grid(True)\n",
    "# plt.show()\n"
   ],
   "id": "21b28029d535b0db",
   "outputs": [],
   "execution_count": 52
  },
  {
   "metadata": {
    "ExecuteTime": {
     "end_time": "2025-04-17T17:33:26.175607Z",
     "start_time": "2025-04-17T17:33:26.171532Z"
    }
   },
   "cell_type": "code",
   "source": "predicted_damages = damage_county_pred.cpu().numpy()",
   "id": "1de80c853a771387",
   "outputs": [],
   "execution_count": 40
  },
  {
   "metadata": {
    "ExecuteTime": {
     "end_time": "2025-04-17T17:33:26.409860Z",
     "start_time": "2025-04-17T17:33:26.404014Z"
    }
   },
   "cell_type": "code",
   "source": [
    "aggregated_damages_storm_county['storm'] = aggregated_damages_storm_county['storm_county'].str[0:6]\n",
    "aggregated_damages_storm_county['predictions'] = predicted_damages\n",
    "\n",
    "storm_damages = aggregated_damages_storm_county.groupby(['storm']).agg(\n",
    "    {\n",
    "        'DAMAGE_PROPERTY': 'sum',\n",
    "        'predictions': 'sum',\n",
    "    }\n",
    ").reset_index()"
   ],
   "id": "37e033ab33fee2c5",
   "outputs": [],
   "execution_count": 41
  },
  {
   "metadata": {
    "ExecuteTime": {
     "end_time": "2025-04-17T17:33:26.557817Z",
     "start_time": "2025-04-17T17:33:26.555832Z"
    }
   },
   "cell_type": "code",
   "source": [
    "# import matplotlib.pyplot as plt\n",
    "# import numpy as np\n",
    "#\n",
    "# income_labels = [\n",
    "#     '<$10k', '$10–15k', '$15–20k', '$20–25k', '$25–30k',\n",
    "#     '$30–35k', '$35–40k', '$40–45k', '$45–50k', '$50–60k',\n",
    "#     '$60–75k', '$75–100k', '$100–125k', '$125–150k', '$150–200k', '>$200k'\n",
    "# ]\n",
    "#\n",
    "# values = np.array(values)\n",
    "# values = values - values.mean()  # should already be centered, but this ensures consistency\n",
    "#\n",
    "# fig, ax = plt.subplots(figsize=(10, 5), dpi=300)\n",
    "#\n",
    "# bars = ax.bar(range(len(values)), values, width=0.6)\n",
    "#\n",
    "# ax.axhline(0, color='black', linewidth=1)\n",
    "# ax.set_xticks(range(len(income_labels)))\n",
    "# ax.set_xticklabels(income_labels, rotation=45, ha='right', fontsize=10)\n",
    "# ax.set_ylabel('Relative effect on log-damage\\n(per 1.0 increase in income bin share)', fontsize=12)\n",
    "# ax.set_xlabel('Household Income Bin', fontsize=12)\n",
    "# ax.set_title('Effect of Income Group Share on Hurricane Damages', fontsize=14, weight='bold')\n",
    "# ax.spines['top'].set_visible(False)\n",
    "# ax.spines['right'].set_visible(False)\n",
    "# ax.spines['left'].set_linewidth(1.2)\n",
    "# ax.spines['bottom'].set_linewidth(1.2)\n",
    "# ax.tick_params(axis='both', which='major', labelsize=10)\n",
    "# ax.set_ylim(-170, 170)\n",
    "#\n",
    "# for i, v in enumerate(values):\n",
    "#     ax.text(i, v + 0.01 * np.sign(v), f'{v:.2f}', ha='center', va='bottom' if v >= 0 else 'top', fontsize=8)\n",
    "#\n",
    "# plt.tight_layout()\n",
    "# plt.show()"
   ],
   "id": "5c68d33e1fcbd2a9",
   "outputs": [],
   "execution_count": 42
  },
  {
   "metadata": {
    "ExecuteTime": {
     "end_time": "2025-04-17T17:34:22.549469Z",
     "start_time": "2025-04-17T17:34:22.546370Z"
    }
   },
   "cell_type": "code",
   "source": [
    "# bias correction\n",
    "from sklearn.linear_model import LinearRegression\n",
    "\n",
    "model = LinearRegression(fit_intercept=False)\n",
    "model.fit(storm_damages['predictions'].values.reshape(-1, 1), storm_damages['DAMAGE_PROPERTY'])\n",
    "\n",
    "model.coef_"
   ],
   "id": "f28994233d1ed8f1",
   "outputs": [
    {
     "data": {
      "text/plain": [
       "array([2.564602e-14], dtype=float32)"
      ]
     },
     "execution_count": 49,
     "metadata": {},
     "output_type": "execute_result"
    }
   ],
   "execution_count": 49
  },
  {
   "metadata": {
    "ExecuteTime": {
     "end_time": "2025-04-17T17:34:23.513209Z",
     "start_time": "2025-04-17T17:34:23.434800Z"
    }
   },
   "cell_type": "code",
   "source": [
    "plt.figure(figsize=(6, 6))\n",
    "plt.scatter(storm_damages['DAMAGE_PROPERTY'], storm_damages['predictions'] * model.coef_)\n",
    "plt.plot([1e5, 1e13], [1e5, 1e13], 'r--')\n",
    "# plt.xlabel('True log1p(DAMAGE_PROPERTY)')\n",
    "plt.xlabel('Reported Damages (Dollars)')\n",
    "plt.ylabel('Predicted Damages (Dollars)')\n",
    "# plt.xlim([1e3, 1e13])\n",
    "# plt.ylim([1e3, 1e13])\n",
    "plt.yscale('symlog')\n",
    "plt.xscale('symlog')\n",
    "plt.grid(True)\n",
    "plt.show()\n"
   ],
   "id": "7a0f878395871749",
   "outputs": [
    {
     "data": {
      "text/plain": [
       "<Figure size 600x600 with 1 Axes>"
      ],
      "image/png": "[encoded data removed]"
     },
     "metadata": {},
     "output_type": "display_data"
    }
   ],
   "execution_count": 50
  },
  {
   "metadata": {
    "ExecuteTime": {
     "end_time": "2025-04-17T17:34:23.614108Z",
     "start_time": "2025-04-17T17:34:23.611764Z"
    }
   },
   "cell_type": "code",
   "source": [
    "print(r2_score(\n",
    "    np.log10(storm_damages['DAMAGE_PROPERTY']),\n",
    "    np.log10(storm_damages['predictions'] * model.coef_))\n",
    ")"
   ],
   "id": "e919de1aacbe2981",
   "outputs": [
    {
     "name": "stdout",
     "output_type": "stream",
     "text": [
      "0.23513506947128926\n"
     ]
    }
   ],
   "execution_count": 51
  },
  {
   "metadata": {
    "ExecuteTime": {
     "end_time": "2025-04-17T17:33:28.430700Z",
     "start_time": "2025-04-17T17:33:28.429139Z"
    }
   },
   "cell_type": "code",
   "source": "",
   "id": "12716cfd24081b8b",
   "outputs": [],
   "execution_count": null
  },
  {
   "metadata": {
    "ExecuteTime": {
     "end_time": "2025-04-17T17:22:26.578982Z",
     "start_time": "2025-04-17T17:22:26.577600Z"
    }
   },
   "cell_type": "code",
   "source": "",
   "id": "fa131f4b6e0084be",
   "outputs": [],
   "execution_count": null
  },
  {
   "metadata": {},
   "cell_type": "code",
   "outputs": [],
   "execution_count": null,
   "source": "",
   "id": "e8f7bfc7d17319b6"
  }
 ],
 "metadata": {
  "kernelspec": {
   "display_name": "Python 3",
   "language": "python",
   "name": "python3"
  },
  "language_info": {
   "codemirror_mode": {
    "name": "ipython",
    "version": 2
   },
   "file_extension": ".py",
   "mimetype": "text/x-python",
   "name": "python",
   "nbconvert_exporter": "python",
   "pygments_lexer": "ipython2",
   "version": "2.7.6"
  }
 },
 "nbformat": 4,
 "nbformat_minor": 5
}
